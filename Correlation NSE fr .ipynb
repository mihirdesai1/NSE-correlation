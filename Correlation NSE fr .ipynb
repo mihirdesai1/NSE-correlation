{
 "cells": [
  {
   "cell_type": "code",
   "execution_count": 9,
   "id": "c92e19b0",
   "metadata": {},
   "outputs": [],
   "source": [
    "import yfinance as yf\n",
    "import numpy as np\n",
    "import pandas as pd\n"
   ]
  },
  {
   "cell_type": "code",
   "execution_count": 45,
   "id": "929e3974",
   "metadata": {},
   "outputs": [],
   "source": [
    "def monte_carlo_simulation(returns, num_simulations=1000, num_days=252):\n",
    "    simulations = np.zeros((num_simulations, num_days))\n",
    "\n",
    "    for i in range(num_simulations):\n",
    "        daily_returns = returns.pct_change().dropna()\n",
    "        avg_daily_return = daily_returns.mean()\n",
    "        std_dev_daily_return = daily_returns.std()\n",
    "\n",
    "        simulation = np.random.normal(avg_daily_return, std_dev_daily_return, num_days)\n",
    "        simulations[i, :] = 1 + simulation\n",
    "\n",
    "    return simulations\n"
   ]
  },
  {
   "cell_type": "code",
   "execution_count": 46,
   "id": "75f4f535",
   "metadata": {},
   "outputs": [],
   "source": [
    "def filter_negative_correlation(stock_returns):\n",
    "    correlation_matrix = stock_returns.corr()\n",
    "\n",
    "    # Create a mask to filter out pairs with negative correlation coefficient higher than -0.9\n",
    "    mask = (correlation_matrix < -0.9) & (correlation_matrix != 1)\n",
    "    filtered_pairs = []\n",
    "\n",
    "    for i in range(len(mask.columns)):\n",
    "        for j in range(i):\n",
    "            if mask.iloc[i, j]:\n",
    "                filtered_pairs.append((mask.columns[i], mask.index[j]))\n",
    "\n",
    "    return filtered_pairs\n"
   ]
  },
  {
   "cell_type": "code",
   "execution_count": 70,
   "id": "f2dca488",
   "metadata": {},
   "outputs": [],
   "source": [
    "def get_filtered_stock_list():\n",
    "    # Fetch all Indian stock symbols\n",
    "    indian_stocks = yf.Tickers(\"*.BO\")\n",
    "\n",
    "    filtered_stocks = []\n",
    "\n",
    "    for stock_ticker in indian_stocks.tickers:\n",
    "        symbol = stock_ticker.info.get('symbol', '')\n",
    "        market_cap = stock_ticker.info.get('marketCap', 0)\n",
    "        if market_cap > 10000000000 and symbol:\n",
    "            filtered_stocks.append(symbol)\n",
    "\n",
    "    return filtered_stocks"
   ]
  },
  {
   "cell_type": "code",
   "execution_count": 48,
   "id": "3bb96673",
   "metadata": {},
   "outputs": [],
   "source": [
    "def get_historical_data(symbol):\n",
    "    stock_data = yf.download(symbol, start=\"2016-12-03\", end=\"2023-12-03\")  \n",
    "    return stock_data['Adj Close']\n"
   ]
  },
  {
   "cell_type": "code",
   "execution_count": 59,
   "id": "4acf0490",
   "metadata": {},
   "outputs": [],
   "source": [
    "def filter_negative_correlation(stock_returns):\n",
    "    correlation_matrix = stock_returns.corr()\n",
    "\n",
    "    # Create a mask to filter out pairs with negative correlation coefficient higher than -0.9\n",
    "    mask = (correlation_matrix < -0.9) & (correlation_matrix != 1)\n",
    "    filtered_pairs = []"
   ]
  },
  {
   "cell_type": "code",
   "execution_count": 65,
   "id": "f7672be6",
   "metadata": {},
   "outputs": [],
   "source": [
    " def calculate_correlation(filtered_stocks):\n",
    "    all_correlation_pairs = []\n",
    "\n",
    "    for i in range(len(filtered_stocks)):\n",
    "        for j in range(i + 1, len(filtered_stocks)):\n",
    "            symbol1 = filtered_stocks[i]\n",
    "            symbol2 = filtered_stocks[j]\n",
    "\n",
    "            data1 = get_historical_data(symbol1)\n",
    "            data2 = get_historical_data(symbol2)\n",
    "\n",
    "            # Assuming you want to calculate the correlation based on the daily returns\n",
    "            returns1 = data1.pct_change().dropna()\n",
    "            returns2 = data2.pct_change().dropna()\n",
    "\n",
    "            correlation_coefficient = np.corrcoef(returns1, returns2)[0, 1]\n",
    "\n",
    "            all_correlation_pairs.append((symbol1, symbol2, correlation_coefficient))\n",
    "            \n",
    "\n",
    "    return all_correlation_pairs\n"
   ]
  },
  {
   "cell_type": "code",
   "execution_count": 66,
   "id": "4efa8adf",
   "metadata": {},
   "outputs": [],
   "source": [
    "def filter_negative_correlation(stock_returns):\n",
    "    correlation_matrix = stock_returns.corr()\n",
    "\n",
    "    # Create a mask to filter out pairs with negative correlation coefficient higher than -0.9\n",
    "    mask = (correlation_matrix < -0.9) & (correlation_matrix != 1)\n",
    "    filtered_pairs = []\n"
   ]
  },
  {
   "cell_type": "code",
   "execution_count": 67,
   "id": "6c386d07",
   "metadata": {},
   "outputs": [],
   "source": [
    "def filter_pairs(all_correlation_pairs, market_cap_threshold=10000000000, correlation_threshold=-0.9):\n",
    "    filtered_pairs = [\n",
    "        pair for pair in all_correlation_pairs\n",
    "        if yf.Ticker(pair[0]).info.get('marketCap', 0) > market_cap_threshold\n",
    "        and yf.Ticker(pair[1]).info.get('marketCap', 0) > market_cap_threshold\n",
    "        and pair[2] < correlation_threshold\n",
    "    ]\n",
    "\n",
    "    return filtered_pairs\n"
   ]
  },
  {
   "cell_type": "code",
   "execution_count": null,
   "id": "1ce72188",
   "metadata": {},
   "outputs": [],
   "source": []
  }
 ],
 "metadata": {
  "kernelspec": {
   "display_name": "Python 3 (ipykernel)",
   "language": "python",
   "name": "python3"
  },
  "language_info": {
   "codemirror_mode": {
    "name": "ipython",
    "version": 3
   },
   "file_extension": ".py",
   "mimetype": "text/x-python",
   "name": "python",
   "nbconvert_exporter": "python",
   "pygments_lexer": "ipython3",
   "version": "3.9.13"
  }
 },
 "nbformat": 4,
 "nbformat_minor": 5
}
